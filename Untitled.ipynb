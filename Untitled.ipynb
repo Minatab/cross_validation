{
 "cells": [
  {
   "cell_type": "code",
   "execution_count": 44,
   "id": "d8adf033-be73-40d4-b69f-f263817397f0",
   "metadata": {},
   "outputs": [],
   "source": [
    "#cross-validation is a technique used for evaluating a model's performance, \n",
    "#while boosting is an ensemble method used to enhance the accuracy and predictive \n",
    "#power of a model by combining multiple weak models.\n",
    "#Cross-validation helps estimate a model's generalization performance, while boosting "
   ]
  },
  {
   "cell_type": "code",
   "execution_count": null,
   "id": "4ed0b02f-849f-4107-a953-0270aa840bac",
   "metadata": {},
   "outputs": [],
   "source": [
    "from sklearn.datasets import load_iris\n",
    "from sklearn.model_selection import cross_val_score,KFold\n",
    "from sklearn.linear_model import LogisticRegression\n"
   ]
  },
  {
   "cell_type": "code",
   "execution_count": 34,
   "id": "431f0857-7bcf-461e-a09f-757b3f977807",
   "metadata": {},
   "outputs": [],
   "source": [
    "## we use a Logistic Regression model as an example.\n",
    "#First, create an instance of the model (model = LogisticRegression()).\n",
    "#Then, you can perform cross-validation using the cross_val_score function. \n",
    "#It takes the model, features, and labels as input, along with the number of folds (cv=5 specifies 5-fold cross-validation)."
   ]
  },
  {
   "cell_type": "code",
   "execution_count": null,
   "id": "a298b311-b574-4fa3-8e75-295a6e39e89e",
   "metadata": {},
   "outputs": [],
   "source": []
  },
  {
   "cell_type": "code",
   "execution_count": 16,
   "id": "8b5ca50f-77fa-4ac6-b6fb-d24fa6416193",
   "metadata": {},
   "outputs": [],
   "source": [
    "iris = load_iris()"
   ]
  },
  {
   "cell_type": "code",
   "execution_count": 21,
   "id": "ac1535e8-947d-4fb5-b6a7-9306c988112e",
   "metadata": {},
   "outputs": [],
   "source": [
    "X= iris.data\n",
    "Y= iris.target"
   ]
  },
  {
   "cell_type": "code",
   "execution_count": 7,
   "id": "c4f2ca16-5aa4-4710-bda0-b8b92c91ceae",
   "metadata": {},
   "outputs": [],
   "source": [
    "#creat a logistic regression model\n",
    "model = LogisticRegression()"
   ]
  },
  {
   "cell_type": "code",
   "execution_count": 39,
   "id": "e48fce9d-31e7-499e-a733-2988a6f067e4",
   "metadata": {},
   "outputs": [
    {
     "name": "stderr",
     "output_type": "stream",
     "text": [
      "/opt/conda/lib/python3.10/site-packages/sklearn/linear_model/_logistic.py:458: ConvergenceWarning: lbfgs failed to converge (status=1):\n",
      "STOP: TOTAL NO. of ITERATIONS REACHED LIMIT.\n",
      "\n",
      "Increase the number of iterations (max_iter) or scale the data as shown in:\n",
      "    https://scikit-learn.org/stable/modules/preprocessing.html\n",
      "Please also refer to the documentation for alternative solver options:\n",
      "    https://scikit-learn.org/stable/modules/linear_model.html#logistic-regression\n",
      "  n_iter_i = _check_optimize_result(\n"
     ]
    }
   ],
   "source": [
    "#perform cross validation:\n",
    "scores = cross_val_score(model, X, Y, cv=5)"
   ]
  },
  {
   "cell_type": "code",
   "execution_count": 40,
   "id": "97991423-9ae4-4c82-a4a8-4d9aeaf9a78b",
   "metadata": {},
   "outputs": [
    {
     "name": "stdout",
     "output_type": "stream",
     "text": [
      "cross validation scores are: [0.96666667 1.         0.93333333 0.96666667 1.        ]\n",
      "average cross validation scores are:0.9733333333333334\n"
     ]
    }
   ],
   "source": [
    "print(\"cross validation scores are: {}\".format(scores))\n",
    "print(\"average cross validation scores are:{}\".format(scores.mean()))"
   ]
  },
  {
   "cell_type": "code",
   "execution_count": 30,
   "id": "de859063-84ba-4536-9f63-617dd58f30ba",
   "metadata": {},
   "outputs": [
    {
     "name": "stderr",
     "output_type": "stream",
     "text": [
      "/opt/conda/lib/python3.10/site-packages/sklearn/linear_model/_logistic.py:458: ConvergenceWarning: lbfgs failed to converge (status=1):\n",
      "STOP: TOTAL NO. of ITERATIONS REACHED LIMIT.\n",
      "\n",
      "Increase the number of iterations (max_iter) or scale the data as shown in:\n",
      "    https://scikit-learn.org/stable/modules/preprocessing.html\n",
      "Please also refer to the documentation for alternative solver options:\n",
      "    https://scikit-learn.org/stable/modules/linear_model.html#logistic-regression\n",
      "  n_iter_i = _check_optimize_result(\n",
      "/opt/conda/lib/python3.10/site-packages/sklearn/linear_model/_logistic.py:458: ConvergenceWarning: lbfgs failed to converge (status=1):\n",
      "STOP: TOTAL NO. of ITERATIONS REACHED LIMIT.\n",
      "\n",
      "Increase the number of iterations (max_iter) or scale the data as shown in:\n",
      "    https://scikit-learn.org/stable/modules/preprocessing.html\n",
      "Please also refer to the documentation for alternative solver options:\n",
      "    https://scikit-learn.org/stable/modules/linear_model.html#logistic-regression\n",
      "  n_iter_i = _check_optimize_result(\n",
      "/opt/conda/lib/python3.10/site-packages/sklearn/linear_model/_logistic.py:458: ConvergenceWarning: lbfgs failed to converge (status=1):\n",
      "STOP: TOTAL NO. of ITERATIONS REACHED LIMIT.\n",
      "\n",
      "Increase the number of iterations (max_iter) or scale the data as shown in:\n",
      "    https://scikit-learn.org/stable/modules/preprocessing.html\n",
      "Please also refer to the documentation for alternative solver options:\n",
      "    https://scikit-learn.org/stable/modules/linear_model.html#logistic-regression\n",
      "  n_iter_i = _check_optimize_result(\n"
     ]
    }
   ],
   "source": [
    "#perfom k_fold cross validation:\n",
    "kfold= KFold(n_splits=5)\n",
    "score= cross_val_score(model, X, Y, cv=kfold)"
   ]
  },
  {
   "cell_type": "code",
   "execution_count": 26,
   "id": "6d501cd6-a2ca-4a79-bee2-4721f948e2e7",
   "metadata": {},
   "outputs": [
    {
     "name": "stdout",
     "output_type": "stream",
     "text": [
      "cross validation scores are:[1.         1.         0.86666667 0.93333333 0.83333333]\n"
     ]
    }
   ],
   "source": [
    "print('cross validation scores are:{}'.format(score))"
   ]
  },
  {
   "cell_type": "code",
   "execution_count": 29,
   "id": "daa42de1-e9ca-479f-b808-d04a5a67362f",
   "metadata": {},
   "outputs": [
    {
     "name": "stdout",
     "output_type": "stream",
     "text": [
      "average cross validation scores are :0.9266666666666665\n"
     ]
    }
   ],
   "source": [
    "print('average cross validation scores are :{}'.format(score.mean()))"
   ]
  },
  {
   "cell_type": "code",
   "execution_count": null,
   "id": "6a209ad4-5ce9-413a-9d2c-a64e5b39d902",
   "metadata": {},
   "outputs": [],
   "source": []
  }
 ],
 "metadata": {
  "environment": {
   "kernel": "python3",
   "name": "common-cpu.m109",
   "type": "gcloud",
   "uri": "gcr.io/deeplearning-platform-release/base-cpu:m109"
  },
  "kernelspec": {
   "display_name": "Python 3",
   "language": "python",
   "name": "python3"
  },
  "language_info": {
   "codemirror_mode": {
    "name": "ipython",
    "version": 3
   },
   "file_extension": ".py",
   "mimetype": "text/x-python",
   "name": "python",
   "nbconvert_exporter": "python",
   "pygments_lexer": "ipython3",
   "version": "3.10.11"
  },
  "toc-autonumbering": true,
  "toc-showtags": true
 },
 "nbformat": 4,
 "nbformat_minor": 5
}
